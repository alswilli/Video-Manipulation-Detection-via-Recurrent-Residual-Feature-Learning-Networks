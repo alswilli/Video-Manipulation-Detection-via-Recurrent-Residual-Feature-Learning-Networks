{
 "cells": [
  {
   "cell_type": "code",
   "execution_count": 31,
   "metadata": {},
   "outputs": [
    {
     "name": "stdout",
     "output_type": "stream",
     "text": [
      "The autoreload extension is already loaded. To reload it, use:\n",
      "  %reload_ext autoreload\n"
     ]
    }
   ],
   "source": [
    "%load_ext autoreload\n",
    "%autoreload 2\n",
    "import utils\n",
    "import os\n",
    "import numpy as np\n",
    "from models import TestModels\n",
    "import data\n",
    "import moveFiles\n"
   ]
  },
  {
   "cell_type": "markdown",
   "metadata": {},
   "source": [
    "# Prepare Data\n",
    "1. Moves video files into train/test folders, randomly taking videos from the UCF dataset and assigning them to random classes. \n",
    "2. Extracts videos into frames\n",
    "3. Applies video manipulations based on the assigned classes\n",
    "4. Saves data to numpy files for use in Data Generator"
   ]
  },
  {
   "cell_type": "code",
   "execution_count": 238,
   "metadata": {},
   "outputs": [
    {
     "name": "stderr",
     "output_type": "stream",
     "text": [
      "\n",
      "  0%|          | 0/18 [00:00<?, ?it/s]\u001b[A"
     ]
    },
    {
     "name": "stdout",
     "output_type": "stream",
     "text": [
      "Exporting Train Data...\n"
     ]
    },
    {
     "name": "stderr",
     "output_type": "stream",
     "text": [
      "\n",
      "  6%|▌         | 1/18 [00:00<00:14,  1.17it/s]\u001b[A\n",
      " 11%|█         | 2/18 [00:01<00:13,  1.18it/s]\u001b[A\n",
      " 17%|█▋        | 3/18 [00:02<00:12,  1.24it/s]\u001b[A\n",
      " 22%|██▏       | 4/18 [00:03<00:11,  1.25it/s]\u001b[A\n",
      " 28%|██▊       | 5/18 [00:04<00:11,  1.17it/s]\u001b[A\n",
      " 33%|███▎      | 6/18 [00:04<00:09,  1.30it/s]\u001b[A\n",
      " 39%|███▉      | 7/18 [00:05<00:08,  1.33it/s]\u001b[A\n",
      " 44%|████▍     | 8/18 [00:06<00:07,  1.27it/s]\u001b[A\n",
      " 50%|█████     | 9/18 [00:07<00:07,  1.24it/s]\u001b[A\n",
      " 56%|█████▌    | 10/18 [00:07<00:05,  1.42it/s]\u001b[A\n",
      " 61%|██████    | 11/18 [00:08<00:04,  1.42it/s]\u001b[A\n",
      " 67%|██████▋   | 12/18 [00:09<00:04,  1.45it/s]\u001b[A\n",
      " 72%|███████▏  | 13/18 [00:09<00:03,  1.32it/s]\u001b[A\n",
      " 78%|███████▊  | 14/18 [00:11<00:03,  1.14it/s]\u001b[A\n",
      " 83%|████████▎ | 15/18 [00:11<00:02,  1.22it/s]\u001b[A\n",
      " 89%|████████▉ | 16/18 [00:12<00:01,  1.31it/s]\u001b[A\n",
      " 94%|█████████▍| 17/18 [00:13<00:00,  1.31it/s]\u001b[A\n",
      "100%|██████████| 18/18 [00:13<00:00,  1.43it/s]\u001b[A\n",
      "  0%|          | 0/4 [00:00<?, ?it/s]\u001b[A"
     ]
    },
    {
     "name": "stdout",
     "output_type": "stream",
     "text": [
      "Exporting Test Data\n"
     ]
    },
    {
     "name": "stderr",
     "output_type": "stream",
     "text": [
      "\n",
      " 25%|██▌       | 1/4 [00:00<00:01,  1.60it/s]\u001b[A\n",
      " 50%|█████     | 2/4 [00:01<00:01,  1.30it/s]\u001b[A\n",
      " 75%|███████▌  | 3/4 [00:02<00:00,  1.31it/s]\u001b[A\n",
      "100%|██████████| 4/4 [00:03<00:00,  1.39it/s]\u001b[A"
     ]
    }
   ],
   "source": [
    "file_limit = 25\n",
    "moveFiles.moveFiles(file_limit)\n",
    "\n",
    "#extract videos into frames and create CSV file\n",
    "pp = data.Preprocessing()\n",
    "pp.extractAllVideos()\n",
    "\n",
    "dataset = data.DataSet()\n",
    "#save training data to .npz files -- need for generator\n",
    "seq_len_limit = 20\n",
    "dataset.dumpNumpyFiles(seq_len_limit=seq_len_limit)"
   ]
  },
  {
   "cell_type": "markdown",
   "metadata": {},
   "source": [
    "# Build DataGenerators and Fit Model"
   ]
  },
  {
   "cell_type": "code",
   "execution_count": 174,
   "metadata": {},
   "outputs": [],
   "source": [
    "tm = TestModels(5, 'lrcn')\n",
    "gen = data.DataGenerator(batch_size = 1)\n",
    "val = data.DataGenerator('test', batch_size = 1)\n",
    "# tm.model.fit(x,y, batch_size=1, epochs=20, shuffle=True)\n",
    "# results = tm.model.fit_generator(gen, validation_data = val, epochs=5)"
   ]
  },
  {
   "cell_type": "code",
   "execution_count": 711,
   "metadata": {},
   "outputs": [
    {
     "name": "stdout",
     "output_type": "stream",
     "text": [
      "[3]\n"
     ]
    },
    {
     "data": {
      "text/plain": [
       "array([0., 0., 0., 1.], dtype=float32)"
      ]
     },
     "execution_count": 711,
     "metadata": {},
     "output_type": "execute_result"
    }
   ],
   "source": [
    "n=19\n",
    "print(tm.model.predict_classes(np.array([x[n]])))\n",
    "y[n]"
   ]
  },
  {
   "cell_type": "code",
   "execution_count": 694,
   "metadata": {},
   "outputs": [
    {
     "data": {
      "image/png": "[encoded data removed]",
      "text/plain": [
       "<Figure size 432x288 with 1 Axes>"
      ]
     },
     "metadata": {},
     "output_type": "display_data"
    }
   ],
   "source": [
    "utils.displayImage(x[n][25])"
   ]
  },
  {
   "cell_type": "code",
   "execution_count": 180,
   "metadata": {},
   "outputs": [],
   "source": [
    "\n",
    "# x1,y1=np.array([x[n]]),np.array([y[n]])\n",
    "# tm.model.evaluate(x1,y1,batch_size=1)"
   ]
  },
  {
   "cell_type": "code",
   "execution_count": 181,
   "metadata": {},
   "outputs": [
    {
     "data": {
      "text/plain": [
       "(20, 224, 224, 3)"
      ]
     },
     "execution_count": 181,
     "metadata": {},
     "output_type": "execute_result"
    }
   ],
   "source": [
    "x[0].shape"
   ]
  },
  {
   "cell_type": "code",
   "execution_count": 274,
   "metadata": {},
   "outputs": [],
   "source": [
    "tm = TestModels(5, 'lrcn')\n",
    "tmtime = TestModels(5, 'lrcn_time')\n",
    "gen = data.DataGenerator(batch_size = 1)"
   ]
  },
  {
   "cell_type": "code",
   "execution_count": 120,
   "metadata": {},
   "outputs": [
    {
     "name": "stdout",
     "output_type": "stream",
     "text": [
      "_________________________________________________________________\n",
      "Layer (type)                 Output Shape              Param #   \n",
      "=================================================================\n",
      "time_distributed_25 (TimeDis (None, None, 112, 112, 32 4736      \n",
      "_________________________________________________________________\n",
      "time_distributed_26 (TimeDis (None, None, 110, 110, 32 9248      \n",
      "_________________________________________________________________\n",
      "time_distributed_27 (TimeDis (None, None, 55, 55, 32)  0         \n",
      "_________________________________________________________________\n",
      "time_distributed_28 (TimeDis (None, None, 96800)       0         \n",
      "_________________________________________________________________\n",
      "dropout_7 (Dropout)          (None, None, 96800)       0         \n",
      "_________________________________________________________________\n",
      "lstm_7 (LSTM)                (None, 32)                12394624  \n",
      "_________________________________________________________________\n",
      "dense_7 (Dense)              (None, 5)                 165       \n",
      "=================================================================\n",
      "Total params: 12,408,773\n",
      "Trainable params: 12,408,773\n",
      "Non-trainable params: 0\n",
      "_________________________________________________________________\n"
     ]
    }
   ],
   "source": [
    "tmtime.model.summary()"
   ]
  },
  {
   "cell_type": "code",
   "execution_count": 275,
   "metadata": {},
   "outputs": [
    {
     "name": "stdout",
     "output_type": "stream",
     "text": [
      "Epoch 1/5\n",
      "18/18 [==============================] - 28s 2s/step - loss: 1.7300 - acc: 0.0000e+00\n",
      "Epoch 2/5\n",
      "18/18 [==============================] - 24s 1s/step - loss: 1.4809 - acc: 0.4444\n",
      "Epoch 3/5\n",
      "18/18 [==============================] - 24s 1s/step - loss: 1.4623 - acc: 0.3889\n",
      "Epoch 4/5\n",
      "18/18 [==============================] - 26s 1s/step - loss: 1.4735 - acc: 0.3333\n",
      "Epoch 5/5\n",
      "18/18 [==============================] - 25s 1s/step - loss: 1.4024 - acc: 0.5000\n"
     ]
    }
   ],
   "source": [
    "# results = tmtime.model.fit_generator(gen, epochs=5)\n",
    "results = tm.model.fit_generator(gen, epochs=5)"
   ]
  },
  {
   "cell_type": "markdown",
   "metadata": {},
   "source": [
    "# Frame-by-Frame Predictions\n",
    "- might be incorrect. "
   ]
  },
  {
   "cell_type": "code",
   "execution_count": 276,
   "metadata": {},
   "outputs": [],
   "source": [
    "x, y = dataset.all_data_from_npz('train')"
   ]
  },
  {
   "cell_type": "code",
   "execution_count": 329,
   "metadata": {},
   "outputs": [
    {
     "name": "stdout",
     "output_type": "stream",
     "text": [
      "black\n",
      "Frame 0: black, 0.2753028\n",
      "Frame 1: black, 0.26950064\n",
      "Frame 2: black, 0.2697326\n",
      "Frame 3: black, 0.26858842\n",
      "Frame 4: black, 0.20015422\n",
      "Frame 5: black, 0.20015422\n",
      "Frame 6: black, 0.20015422\n",
      "Frame 7: black, 0.20015422\n",
      "Frame 8: black, 0.20015422\n",
      "Frame 9: black, 0.20015422\n",
      "Frame 10: black, 0.20015422\n",
      "Frame 11: black, 0.20015422\n",
      "Frame 12: black, 0.20015422\n",
      "Frame 13: black, 0.20015422\n",
      "Frame 14: black, 0.27931488\n",
      "Frame 15: black, 0.28595677\n",
      "Frame 16: black, 0.28843993\n",
      "Frame 17: black, 0.2915002\n",
      "Frame 18: black, 0.2957852\n",
      "Frame 19: black, 0.29281023\n"
     ]
    }
   ],
   "source": [
    "n=11\n",
    "sample = x[n]\n",
    "label = y[n]\n",
    "predictions = tm.model.predict(np.expand_dims(sample, axis=1))\n",
    "print(dataset.reverse_one_hot(label))\n",
    "for i in range(len(predictions)):\n",
    "    c = np.argmax(predictions[i])\n",
    "    print(\"Frame {0}: \".format(i) + dataset.classes[c] + \", \" + str(predictions[i][c]))"
   ]
  },
  {
   "cell_type": "code",
   "execution_count": 328,
   "metadata": {},
   "outputs": [
    {
     "data": {
      "image/png": "[encoded data removed]",
      "text/plain": [
       "<Figure size 432x288 with 1 Axes>"
      ]
     },
     "metadata": {},
     "output_type": "display_data"
    }
   ],
   "source": [
    "utils.displayImage(sample[4])"
   ]
  },
  {
   "cell_type": "code",
   "execution_count": null,
   "metadata": {},
   "outputs": [],
   "source": []
  },
  {
   "cell_type": "code",
   "execution_count": null,
   "metadata": {},
   "outputs": [],
   "source": []
  },
  {
   "cell_type": "code",
   "execution_count": null,
   "metadata": {},
   "outputs": [],
   "source": []
  }
 ],
 "metadata": {
  "kernelspec": {
   "display_name": "Python 3",
   "language": "python",
   "name": "python3"
  },
  "language_info": {
   "codemirror_mode": {
    "name": "ipython",
    "version": 3
   },
   "file_extension": ".py",
   "mimetype": "text/x-python",
   "name": "python",
   "nbconvert_exporter": "python",
   "pygments_lexer": "ipython3",
   "version": "3.6.8"
  }
 },
 "nbformat": 4,
 "nbformat_minor": 2
}
